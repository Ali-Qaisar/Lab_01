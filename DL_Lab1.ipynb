{
 "cells": [
  {
   "cell_type": "markdown",
   "id": "e5a0bcf2-c11c-471a-9f81-3e31665b0f32",
   "metadata": {},
   "source": [
    "# LAB TASK'S"
   ]
  },
  {
   "cell_type": "markdown",
   "id": "5ffda6f4-70bb-4856-a0ba-f61613790455",
   "metadata": {},
   "source": [
    "# Task 01\n",
    "\n",
    "### In this task simply multiplication is done by using constants"
   ]
  },
  {
   "cell_type": "code",
   "execution_count": 1,
   "id": "c43c294c-9551-4fc0-baa4-89dc0013b29b",
   "metadata": {},
   "outputs": [],
   "source": [
    "import pandas as pd\n",
    "import numpy as np"
   ]
  },
  {
   "cell_type": "code",
   "execution_count": 2,
   "id": "420ac3f8-2209-4722-a82c-7e1606c1527a",
   "metadata": {},
   "outputs": [
    {
     "name": "stdout",
     "output_type": "stream",
     "text": [
      "WARNING:tensorflow:From C:\\Users\\Ali Qaisar\\AppData\\Local\\Packages\\PythonSoftwareFoundation.Python.3.11_qbz5n2kfra8p0\\LocalCache\\local-packages\\Python311\\site-packages\\keras\\src\\losses.py:2976: The name tf.losses.sparse_softmax_cross_entropy is deprecated. Please use tf.compat.v1.losses.sparse_softmax_cross_entropy instead.\n",
      "\n"
     ]
    }
   ],
   "source": [
    "import tensorflow as tf"
   ]
  },
  {
   "cell_type": "code",
   "execution_count": 3,
   "id": "7d864a59-2b00-47ac-ae7a-3e0371398dc7",
   "metadata": {},
   "outputs": [
    {
     "name": "stdout",
     "output_type": "stream",
     "text": [
      "Original Tensor:\n",
      "tf.Tensor(\n",
      "[[1 2]\n",
      " [3 4]], shape=(2, 2), dtype=int32)\n",
      "\n",
      "Scalar Value:\n",
      "4\n",
      "\n",
      "Result after multiplication:\n",
      "tf.Tensor(\n",
      "[[ 4  8]\n",
      " [12 16]], shape=(2, 2), dtype=int32)\n"
     ]
    }
   ],
   "source": [
    "# Define a TensorFlow constant tensor\n",
    "tensor = tf.constant([[1, 2], [3, 4]])\n",
    "\n",
    "# Define a scalar value\n",
    "scalar = 4\n",
    "\n",
    "# Multiply the tensor by the scalar value\n",
    "result = tensor * scalar\n",
    "\n",
    "# Print the result\n",
    "print(\"Original Tensor:\")\n",
    "print(tensor)\n",
    "print(\"\\nScalar Value:\")\n",
    "print(scalar)\n",
    "print(\"\\nResult after multiplication:\")\n",
    "print(result)\n"
   ]
  },
  {
   "cell_type": "markdown",
   "id": "ea699efb-fae6-4196-b3a0-649144dded64",
   "metadata": {},
   "source": [
    "# Task 02\n",
    "\n",
    "### In this task dot product is being calculated by using 2 vectors"
   ]
  },
  {
   "cell_type": "code",
   "execution_count": 4,
   "id": "bceb8c54-7ef7-4d13-839b-21a21d39cf45",
   "metadata": {},
   "outputs": [
    {
     "name": "stdout",
     "output_type": "stream",
     "text": [
      "Dot Product: 32\n"
     ]
    }
   ],
   "source": [
    "import tensorflow as tf\n",
    "\n",
    "# Define two 1-D tensors (vectors)\n",
    "vector1 = tf.constant([1, 2, 3])\n",
    "vector2 = tf.constant([4, 5, 6])\n",
    "\n",
    "# Compute the dot product of the two vectors\n",
    "dot_product = tf.tensordot(vector1, vector2, axes=1)\n",
    "\n",
    "# Print the dot product\n",
    "print(\"Dot Product:\", dot_product.numpy())\n"
   ]
  },
  {
   "cell_type": "markdown",
   "id": "db3265f9-eb45-4625-86b7-4f3f6b794e53",
   "metadata": {},
   "source": [
    "# Task 03\n",
    "\n",
    "### In this task simply arithmetic operations are performed"
   ]
  },
  {
   "cell_type": "code",
   "execution_count": 5,
   "id": "a770a816-cd5d-4c0a-883c-9c7510eab9b3",
   "metadata": {},
   "outputs": [
    {
     "name": "stdout",
     "output_type": "stream",
     "text": [
      "Matrix1:\n",
      "[[1 2]\n",
      " [3 4]]\n",
      "\n",
      "Matrix2:\n",
      "[[5 6]\n",
      " [7 8]]\n",
      "\n",
      "Addition Result:\n",
      "[[ 6  8]\n",
      " [10 12]]\n",
      "\n",
      "Subtraction Result:\n",
      "[[-4 -4]\n",
      " [-4 -4]]\n",
      "\n",
      "Element-wise Multiplication Result:\n",
      "[[ 5 12]\n",
      " [21 32]]\n"
     ]
    }
   ],
   "source": [
    "import tensorflow as tf\n",
    "\n",
    "# Define the matrices\n",
    "matrix1 = tf.constant([[1, 2], [3, 4]])\n",
    "matrix2 = tf.constant([[5, 6], [7, 8]])\n",
    "\n",
    "# Addition\n",
    "addition_result = tf.add(matrix1, matrix2)\n",
    "\n",
    "# Subtraction\n",
    "subtraction_result = tf.subtract(matrix1, matrix2)\n",
    "\n",
    "# Element-wise multiplication\n",
    "element_wise_multiplication_result = tf.multiply(matrix1, matrix2)\n",
    "\n",
    "# Print the results\n",
    "print(\"Matrix1:\")\n",
    "print(matrix1.numpy())\n",
    "print(\"\\nMatrix2:\")\n",
    "print(matrix2.numpy())\n",
    "print(\"\\nAddition Result:\")\n",
    "print(addition_result.numpy())\n",
    "print(\"\\nSubtraction Result:\")\n",
    "print(subtraction_result.numpy())\n",
    "print(\"\\nElement-wise Multiplication Result:\")\n",
    "print(element_wise_multiplication_result.numpy())\n"
   ]
  },
  {
   "cell_type": "markdown",
   "id": "361c20dc-7a27-4127-a48f-0702416f76c6",
   "metadata": {},
   "source": [
    "# EXERCISE"
   ]
  },
  {
   "cell_type": "markdown",
   "id": "58693d37-2bfe-4549-95b3-9caf4c401030",
   "metadata": {},
   "source": [
    "### 1) Create a vector, scalar, matrix and tensor with values of your choosing using tf.constant()."
   ]
  },
  {
   "cell_type": "code",
   "execution_count": 6,
   "id": "e9c081e4-54da-40f5-a7b4-b6a74373896e",
   "metadata": {},
   "outputs": [],
   "source": [
    "import tensorflow as tf"
   ]
  },
  {
   "cell_type": "code",
   "execution_count": 7,
   "id": "55e32587-4302-4372-9b50-b0801927e8ec",
   "metadata": {},
   "outputs": [],
   "source": [
    "vector = tf.constant([1, 2, 3, 4, 5])\n",
    "scalar = tf.constant(2)\n",
    "matrix = tf.constant([[1, 2], [3, 4]])\n",
    "tensor = tf.constant([[[1, 2], [3, 4]], [[5, 6], [7, 8]]])"
   ]
  },
  {
   "cell_type": "markdown",
   "id": "a0db7dd9-4b25-462d-a182-2868069ef3ad",
   "metadata": {},
   "source": [
    "### 2)Find the shape, rank and size of the tensors you created in 1."
   ]
  },
  {
   "cell_type": "code",
   "execution_count": 8,
   "id": "689c5ba0-92c3-4c13-9271-8144d2de7502",
   "metadata": {},
   "outputs": [],
   "source": [
    "vector_shape = tf.shape(vector)\n",
    "vector_rank = tf.rank(vector)\n",
    "vector_size = tf.size(vector)\n",
    "\n",
    "scalar_shape = tf.shape(scalar)\n",
    "scalar_rank = tf.rank(scalar)\n",
    "scalar_size = tf.size(scalar)\n",
    "\n",
    "matrix_shape = tf.shape(matrix)\n",
    "matrix_rank = tf.rank(matrix)\n",
    "matrix_size = tf.size(matrix)\n",
    "\n",
    "tensor_shape = tf.shape(tensor)\n",
    "tensor_rank = tf.rank(tensor)\n",
    "tensor_size = tf.size(tensor)"
   ]
  },
  {
   "cell_type": "code",
   "execution_count": 10,
   "id": "a7c9c941-c645-4fc4-8b80-af1a5ddd1ea9",
   "metadata": {},
   "outputs": [
    {
     "name": "stdout",
     "output_type": "stream",
     "text": [
      "Vector Shape: [5]\n",
      "Vector Rank: 1\n",
      "Vector Size: 5\n",
      "\n",
      "Scalar Shape: []\n",
      "Scalar Rank: 0\n",
      "Scalar Size: 1\n",
      "\n",
      "Matrix Shape: [2 2]\n",
      "Matrix Rank: 2\n",
      "Matrix Size: 4\n",
      "\n",
      "Tensor Shape: [2 2 2]\n",
      "Tensor Rank: 3\n",
      "Tensor Size: 8\n"
     ]
    }
   ],
   "source": [
    "# Print the results\n",
    "print(\"Vector Shape:\", vector_shape.numpy())\n",
    "print(\"Vector Rank:\", vector_rank.numpy())\n",
    "print(\"Vector Size:\", vector_size.numpy())\n",
    "\n",
    "print(\"\\nScalar Shape:\", scalar_shape.numpy())\n",
    "print(\"Scalar Rank:\", scalar_rank.numpy())\n",
    "print(\"Scalar Size:\", scalar_size.numpy())\n",
    "\n",
    "print(\"\\nMatrix Shape:\", matrix_shape.numpy())\n",
    "print(\"Matrix Rank:\", matrix_rank.numpy())\n",
    "print(\"Matrix Size:\", matrix_size.numpy())\n",
    "\n",
    "print(\"\\nTensor Shape:\", tensor_shape.numpy())\n",
    "print(\"Tensor Rank:\", tensor_rank.numpy())\n",
    "print(\"Tensor Size:\", tensor_size.numpy())"
   ]
  },
  {
   "cell_type": "markdown",
   "id": "607c2652-4a87-496c-8a4d-447a7f844b55",
   "metadata": {},
   "source": [
    "### 3)Create two tensors containing random values between 0 and 1 with shape [5, 300]."
   ]
  },
  {
   "cell_type": "code",
   "execution_count": 11,
   "id": "0443f5f8-cdc1-4f3f-a7a9-743f872934a1",
   "metadata": {},
   "outputs": [],
   "source": [
    "random_tensor1 = tf.random.uniform(shape=[5, 300])\n",
    "random_tensor2 = tf.random.uniform(shape=[5, 300])"
   ]
  },
  {
   "cell_type": "markdown",
   "id": "5c4eb34e-23ea-40c7-83fc-a8e99024c664",
   "metadata": {},
   "source": [
    "### 4)Multiply the two tensors you created in 3 using matrix multiplication."
   ]
  },
  {
   "cell_type": "code",
   "execution_count": 12,
   "id": "9d3cf465-efac-4e64-ad80-ffef8e53cd57",
   "metadata": {},
   "outputs": [],
   "source": [
    "matrix_multiplication_result = tf.matmul(random_tensor1, random_tensor2, transpose_b=True)"
   ]
  },
  {
   "cell_type": "code",
   "execution_count": 13,
   "id": "b1698112-7b2f-4fd9-a9c4-906893b06e15",
   "metadata": {},
   "outputs": [
    {
     "name": "stdout",
     "output_type": "stream",
     "text": [
      "\n",
      "Matrix Multiplication Result:\n",
      "[[77.891235 78.69267  81.48962  75.18346  69.47348 ]\n",
      " [77.719574 78.02087  80.31923  75.26994  72.222336]\n",
      " [76.78998  76.085754 74.83748  74.46388  69.49411 ]\n",
      " [84.762085 84.46376  84.567    82.41521  76.9682  ]\n",
      " [77.02532  78.45811  76.17929  74.35171  71.33738 ]]\n"
     ]
    }
   ],
   "source": [
    "print(\"\\nMatrix Multiplication Result:\")\n",
    "print(matrix_multiplication_result.numpy())"
   ]
  },
  {
   "cell_type": "markdown",
   "id": "2ac32d36-684f-439d-a346-05ebc48786a1",
   "metadata": {},
   "source": [
    "### 5)Multiply the two tensors you created in 3 using dot product."
   ]
  },
  {
   "cell_type": "code",
   "execution_count": 14,
   "id": "964b33b3-89b8-485e-8d6d-d49cabf7cdc5",
   "metadata": {},
   "outputs": [],
   "source": [
    "# Create two tensors containing random values between 0 and 1 with shape [5, 300]\n",
    "random_tensor1 = tf.random.uniform(shape=[5, 300])\n",
    "random_tensor2 = tf.random.uniform(shape=[5, 300])\n",
    "\n",
    "# Reshape one of the tensors for dot product (matrix multiplication)\n",
    "reshaped_tensor1 = tf.reshape(random_tensor1, shape=[300, 5])\n",
    "\n",
    "# Perform dot product (matrix multiplication)\n",
    "dot_product_result = tf.matmul(reshaped_tensor1, random_tensor2)"
   ]
  },
  {
   "cell_type": "code",
   "execution_count": 15,
   "id": "0c9106f2-676c-4423-b2a0-5ed3aa6435e1",
   "metadata": {},
   "outputs": [
    {
     "name": "stdout",
     "output_type": "stream",
     "text": [
      "Dot Product Result:\n",
      "[[1.6897093  1.1788983  0.78074425 ... 1.3425853  1.9414192  1.342517  ]\n",
      " [2.0850508  1.3793294  0.939673   ... 1.7934079  2.6091418  1.951101  ]\n",
      " [1.6882111  0.9954923  0.7238284  ... 1.2494614  1.7951597  1.3817602 ]\n",
      " ...\n",
      " [1.1337118  0.70035076 0.50315773 ... 0.8011534  1.3715148  1.1171256 ]\n",
      " [1.1009252  0.7015171  0.478652   ... 1.0157886  1.4758507  1.149231  ]\n",
      " [1.5652648  0.77283716 0.5053524  ... 1.2661881  1.6604576  1.3114713 ]]\n"
     ]
    }
   ],
   "source": [
    "# Print the result\n",
    "print(\"Dot Product Result:\")\n",
    "print(dot_product_result.numpy())"
   ]
  },
  {
   "cell_type": "markdown",
   "id": "4dfaf314-c68f-4a5d-8a3c-900f359cb497",
   "metadata": {},
   "source": [
    "### 6) Create a tensor with random values between 0 and 1 with shape [224, 224, 3]."
   ]
  },
  {
   "cell_type": "code",
   "execution_count": 16,
   "id": "b4cb30b3-f1b6-4d57-acfc-0add9a327603",
   "metadata": {},
   "outputs": [],
   "source": [
    "random_tensor_3d = tf.random.uniform(shape=[224, 224, 3])"
   ]
  },
  {
   "cell_type": "markdown",
   "id": "06157199-cf28-481d-a975-4a41d16c1fe8",
   "metadata": {},
   "source": [
    "### 7) Find the min and max values of the tensor you created in 6."
   ]
  },
  {
   "cell_type": "code",
   "execution_count": 17,
   "id": "f48aaa90-fe14-446c-ade1-f09231151e1d",
   "metadata": {},
   "outputs": [],
   "source": [
    "min_value = tf.reduce_min(random_tensor_3d)\n",
    "max_value = tf.reduce_max(random_tensor_3d)"
   ]
  },
  {
   "cell_type": "code",
   "execution_count": 18,
   "id": "953cb576-d711-4c38-b3ce-5d8321044bc8",
   "metadata": {},
   "outputs": [
    {
     "name": "stdout",
     "output_type": "stream",
     "text": [
      "\n",
      "Min Value: 2.503395e-06\n",
      "Max Value: 0.999992\n"
     ]
    }
   ],
   "source": [
    "print(\"\\nMin Value:\", min_value.numpy())\n",
    "print(\"Max Value:\", max_value.numpy())"
   ]
  },
  {
   "cell_type": "markdown",
   "id": "ac26e935-2dda-4e37-b95e-7885d281cb97",
   "metadata": {},
   "source": [
    "### 8)Created a tensor with random values of shape [1, 224, 224, 3] then squeeze it to change the shape to [224, 224, 3]."
   ]
  },
  {
   "cell_type": "code",
   "execution_count": 19,
   "id": "bd11d21a-ff58-49d2-8ae3-b2180035456d",
   "metadata": {},
   "outputs": [],
   "source": [
    "random_tensor_4d = tf.random.uniform(shape=[1, 224, 224, 3])\n",
    "squeezed_tensor = tf.squeeze(random_tensor_4d, axis=0)"
   ]
  },
  {
   "cell_type": "code",
   "execution_count": 20,
   "id": "7503f0c5-ee3e-42a7-a525-e48c7072e1fc",
   "metadata": {},
   "outputs": [
    {
     "name": "stdout",
     "output_type": "stream",
     "text": [
      "\n",
      "Squeezed Tensor Shape: [224 224   3]\n"
     ]
    }
   ],
   "source": [
    "print(\"\\nSqueezed Tensor Shape:\", tf.shape(squeezed_tensor).numpy())"
   ]
  },
  {
   "cell_type": "markdown",
   "id": "ba302dcb-8810-44cc-8a1e-98b2c4ec8723",
   "metadata": {},
   "source": [
    "### 9) Create a tensor with shape [10] using your own choice of values, then find the index which has the maximum value."
   ]
  },
  {
   "cell_type": "code",
   "execution_count": 21,
   "id": "4817d11f-f15a-420d-838f-863498c55b36",
   "metadata": {},
   "outputs": [],
   "source": [
    "tensor_max_index = tf.argmax(tf.constant([5, 3, 8, 2, 7, 4, 9, 1, 6, 0]))"
   ]
  },
  {
   "cell_type": "code",
   "execution_count": 22,
   "id": "8b629d14-25f7-44e0-a280-4f893c0e1592",
   "metadata": {},
   "outputs": [
    {
     "name": "stdout",
     "output_type": "stream",
     "text": [
      "Max Index in Tensor: 6\n"
     ]
    }
   ],
   "source": [
    "print(\"Max Index in Tensor:\", tensor_max_index.numpy())"
   ]
  }
 ],
 "metadata": {
  "kernelspec": {
   "display_name": "Python 3 (ipykernel)",
   "language": "python",
   "name": "python3"
  },
  "language_info": {
   "codemirror_mode": {
    "name": "ipython",
    "version": 3
   },
   "file_extension": ".py",
   "mimetype": "text/x-python",
   "name": "python",
   "nbconvert_exporter": "python",
   "pygments_lexer": "ipython3",
   "version": "3.11.8"
  }
 },
 "nbformat": 4,
 "nbformat_minor": 5
}
